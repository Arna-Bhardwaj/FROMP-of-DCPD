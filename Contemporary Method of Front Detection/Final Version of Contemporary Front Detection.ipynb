{
 "cells": [
  {
   "cell_type": "code",
   "execution_count": 1,
   "id": "f70c1f75",
   "metadata": {},
   "outputs": [],
   "source": [
    "import cv2\n",
    "import numpy as np\n",
    "import numpy as np \n",
    "import cv2\n",
    "import matplotlib.pyplot as plt\n",
    "from PIL import Image, ImageOps"
   ]
  },
  {
   "cell_type": "code",
   "execution_count": 2,
   "id": "25dadaac",
   "metadata": {},
   "outputs": [],
   "source": [
    "image= cv2.imread(\"front_3.png\")\n",
    "#read the image, turn into grayscale and gradient threshold by keeping 0.3% of the highest gradient\n",
    "image_grey = cv2.imread(\"front_3.png\",cv2.IMREAD_GRAYSCALE)\n",
    "image_grey = cv2.GaussianBlur(image_grey, (3, 3), 15)\n",
    "\n",
    "gx= cv2.Scharr(np.float32(image_grey), cv2.CV_64F, 1, 0) #i need to understand these because idk     \n",
    "gy= cv2.Scharr(np.float32(image_grey), cv2.CV_64F, 0, 1)\n",
    "\n",
    "grad_mag = np.sqrt((gx ** 2) + (gy ** 2))\n",
    "\n",
    "per= np.percentile(grad_mag, 99.7)\n",
    "\n",
    "\n",
    "for i in range(grad_mag.shape[0]):\n",
    "    for j in range(grad_mag.shape[1]):\n",
    "        if(grad_mag[i, j]<per): #580\n",
    "            grad_mag[i, j]=0 \n",
    "\n",
    "    \n",
    "ret, thresh1 = cv2.threshold(grad_mag, 240, 255, cv2.THRESH_BINARY)"
   ]
  },
  {
   "cell_type": "code",
   "execution_count": 3,
   "id": "4d97c909",
   "metadata": {},
   "outputs": [
    {
     "data": {
      "text/plain": [
       "True"
      ]
     },
     "execution_count": 3,
     "metadata": {},
     "output_type": "execute_result"
    }
   ],
   "source": [
    "thresh1=thresh1.astype(np.uint8)\n",
    "cv2.imwrite('thresh1.png', thresh1)"
   ]
  },
  {
   "cell_type": "code",
   "execution_count": 4,
   "id": "b3594c7d",
   "metadata": {},
   "outputs": [],
   "source": [
    "#increase the thickness of the thresholded to aid in Canny edge detection\n",
    "def increase_line_thickness(image, thickness):\n",
    "    # Create a line-shaped structuring element\n",
    "    structuring_element = cv2.getStructuringElement(cv2.MORPH_RECT, (1, thickness))\n",
    "    \n",
    "    # Perform dilation to increase line thickness\n",
    "    dilated_image = cv2.dilate(image, structuring_element, iterations=1)\n",
    "    \n",
    "    return dilated_image"
   ]
  },
  {
   "cell_type": "code",
   "execution_count": 5,
   "id": "70cf1d35",
   "metadata": {},
   "outputs": [],
   "source": [
    "# Read the image\n",
    "original_image = cv2.imread('thresh1.png', cv2.IMREAD_GRAYSCALE)\n",
    "\n",
    "# Set the desired line thickness\n",
    "thickness = 8\n",
    "\n",
    "# Increase line thickness\n",
    "thickened_image = increase_line_thickness(original_image, thickness)\n",
    "\n",
    "# Perform Canny edge detection on the original image\n",
    "canny_edges = cv2.Canny(original_image, 50, 300)\n",
    "\n",
    "# Combine thickened image with Canny edges (this aids in helping Hough Line transform detect the horizontal lines)\n",
    "combined_edges = cv2.bitwise_or(thickened_image, canny_edges)"
   ]
  },
  {
   "cell_type": "code",
   "execution_count": 43,
   "id": "b04d0c38",
   "metadata": {},
   "outputs": [],
   "source": [
    "image_grey = cv2.imread(\"front_3.png\",cv2.IMREAD_GRAYSCALE)\n",
    "image_grey = cv2.GaussianBlur(image_grey, (3, 3), 15)\n",
    "\n",
    "gx= cv2.Scharr(np.float32(image_grey), cv2.CV_64F, 1, 0) #i need to understand these because idk     \n",
    "gy= cv2.Scharr(np.float32(image_grey), cv2.CV_64F, 0, 1)\n",
    "\n",
    "grad_mag = np.sqrt((gx ** 2) + (gy ** 2))\n",
    "\n",
    "per= np.percentile(grad_mag, 99.6)\n",
    "\n",
    "\n",
    "for i in range(grad_mag.shape[0]):\n",
    "    for j in range(grad_mag.shape[1]):\n",
    "        if(grad_mag[i, j]<per): #580\n",
    "            grad_mag[i, j]=0 \n",
    "ret, thresh1 = cv2.threshold(grad_mag, 240, 255, cv2.THRESH_BINARY)\n",
    "\n",
    "thresh1=thresh1.astype(np.uint8)"
   ]
  },
  {
   "cell_type": "code",
   "execution_count": 44,
   "id": "ad0b1e19",
   "metadata": {},
   "outputs": [
    {
     "data": {
      "text/plain": [
       "True"
      ]
     },
     "execution_count": 44,
     "metadata": {},
     "output_type": "execute_result"
    }
   ],
   "source": [
    "cv2.imwrite('thresh1.png', combined_edges)"
   ]
  },
  {
   "cell_type": "code",
   "execution_count": 6,
   "id": "99f201de",
   "metadata": {},
   "outputs": [],
   "source": [
    "edges = cv2.Canny(thresh1, 100, 200)"
   ]
  },
  {
   "cell_type": "code",
   "execution_count": 7,
   "id": "6059e2e1",
   "metadata": {},
   "outputs": [],
   "source": [
    "# Apply Hough Line Transform\n",
    "lines = cv2.HoughLinesP(edges, rho=5, theta=np.pi/180, threshold=1, minLineLength=10, maxLineGap=10)"
   ]
  },
  {
   "cell_type": "code",
   "execution_count": 8,
   "id": "1444273a",
   "metadata": {},
   "outputs": [],
   "source": [
    "# Filter and draw horizontal lines\n",
    "\n",
    "for line in lines:\n",
    "    x1, y1, x2, y2 = line[0]\n",
    "    if y2>=750: \n",
    "        x1, y1, x2, y2= (0, 0, 0, 0)\n",
    "    \n",
    "    angle = np.arctan2(y2 - y1, x2 - x1) * 180 / np.pi\n",
    "    if np.abs(angle) < 40:  # Tolerance for horizontal lines\n",
    "        cv2.line(image, (x1, y1), (x2, y2), (0, 255, 0), 3)"
   ]
  },
  {
   "cell_type": "code",
   "execution_count": 9,
   "id": "3ba755de",
   "metadata": {},
   "outputs": [],
   "source": [
    "cv2.imshow('Horizontal Lines2', image)\n",
    "cv2.waitKey(15)\n",
    "cv2.destroyAllWindows()"
   ]
  }
 ],
 "metadata": {
  "kernelspec": {
   "display_name": "Python 3 (ipykernel)",
   "language": "python",
   "name": "python3"
  },
  "language_info": {
   "codemirror_mode": {
    "name": "ipython",
    "version": 3
   },
   "file_extension": ".py",
   "mimetype": "text/x-python",
   "name": "python",
   "nbconvert_exporter": "python",
   "pygments_lexer": "ipython3",
   "version": "3.10.8"
  }
 },
 "nbformat": 4,
 "nbformat_minor": 5
}
